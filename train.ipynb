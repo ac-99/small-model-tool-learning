{
 "cells": [
  {
   "cell_type": "code",
   "execution_count": 27,
   "metadata": {},
   "outputs": [],
   "source": [
    "import pandas as pd\n",
    "\n",
    "api_bank_df = pd.read_csv('Datasets/API-Bank/cleaned_api_bank_data.csv')"
   ]
  },
  {
   "cell_type": "code",
   "execution_count": 28,
   "metadata": {},
   "outputs": [
    {
     "name": "stdout",
     "output_type": "stream",
     "text": [
      "\n",
      "Generate an API request in the format of [ApiName(key1='value1', key2='value2', ...)] based on the previous dialogue context.\n",
      "The current time is 2039-03-09 18:56:09 Wednesday.\n",
      "Input: \n",
      "User: User's utterence\n",
      "AI: AI's response\n",
      "\n",
      "Expected output:\n",
      "API-Request: [ApiName(key1='value1', key2='value2', ...)]\n",
      "\n",
      "API descriptions:\n",
      "\n",
      "{\"apiCode\": \"Get_All_Sessions\", \"description\": \"Get the list of all available yoga and meditation sessions.\", \"parameters\": {}, \"response\": {\"data\": {\"description\": \"List of available sessions.\", \"type\": \"list\", \"items\": {\"type\": \"object\", \"properties\": {\"session_name\": {\"description\": \"Name of the session.\", \"type\": \"string\"}, \"session_date\": {\"description\": \"Date of the session.\", \"type\": \"string\", \"format\": \"formatted\"}, \"session_time\": {\"description\": \"Time of the session.\", \"type\": \"string\", \"format\": \"formatted\"}, \"session_instructor\": {\"description\": \"Name of the session instructor.\", \"type\": \"string\"}, \"session_description\": {\"description\": \"Description of the session.\", \"type\": \"string\"}}}}}}\n",
      "{\"apiCode\": \"Create_New_Session\", \"description\": \"Create a new virtual yoga or meditation session.\", \"parameters\": {\"session_name\": {\"type\": \"string\", \"description\": \"Name of the session.\", \"required\": true}, \"session_date\": {\"type\": \"string\", \"description\": \"Date of the session, in the format yyyy-MM-dd.\", \"format\": \"formatted\", \"required\": true}, \"session_time\": {\"type\": \"string\", \"description\": \"Time of the session, in the format HH:mm:ss.\", \"format\": \"formatted\", \"required\": true}, \"session_instructor\": {\"type\": \"string\", \"description\": \"Name of the session instructor.\", \"required\": true}, \"session_description\": {\"type\": \"string\", \"description\": \"Description of the session.\", \"required\": true}}, \"response\": {\"data\": {\"description\": \"Confirmation of new session creation.\", \"type\": \"object\", \"properties\": {\"session_id\": {\"type\": \"integer\", \"description\": \"ID of the newly created session.\"}, \"status\": {\"type\": \"string\", \"description\": \"Status of the creation request.\"}}}}}\n",
      "{\"apiCode\": \"Register_for_Session\", \"description\": \"Register for a virtual yoga or meditation session.\", \"parameters\": {\"session_id\": {\"type\": \"integer\", \"description\": \"ID of the session to register for.\", \"required\": true}, \"user_name\": {\"type\": \"string\", \"description\": \"Name of the user registering for the session.\", \"required\": true}, \"user_email\": {\"type\": \"string\", \"description\": \"Email of the user registering for the session.\", \"required\": true}, \"user_phone\": {\"type\": \"string\", \"description\": \"Phone number of the user registering for the session.\", \"required\": true}}, \"response\": {\"data\": {\"description\": \"Confirmation of session registration.\", \"type\": \"object\", \"properties\": {\"session_name\": {\"type\": \"string\", \"description\": \"Name of the session the user registered for.\"}, \"user_name\": {\"type\": \"string\", \"description\": \"Name of the user who registered for the session.\"}, \"status\": {\"type\": \"string\", \"description\": \"Status of the registration request.\"}}}}}\n",
      "User: I'm interested in joining a virtual yoga or meditation session. Can you provide me with a list of all available sessions?\n",
      "Generate API Request: \n"
     ]
    }
   ],
   "source": [
    "# print(api_bank_df.instruction.iloc[0])\n",
    "# print(api_bank_df.input.iloc[0])\n",
    "\n",
    "\n",
    "print(api_bank_df.prompt.iloc[0])"
   ]
  },
  {
   "cell_type": "code",
   "execution_count": 29,
   "metadata": {},
   "outputs": [],
   "source": [
    "from datasets import load_dataset, load_metric"
   ]
  },
  {
   "cell_type": "code",
   "execution_count": 30,
   "metadata": {},
   "outputs": [
    {
     "name": "stdout",
     "output_type": "stream",
     "text": [
      "trainable params: 294,912 || all params: 124,734,720 || trainable%: 0.23643136409814364\n"
     ]
    },
    {
     "name": "stderr",
     "output_type": "stream",
     "text": [
      "/home/ac-99/miniconda3/envs/tool-learning/lib/python3.11/site-packages/peft/tuners/lora/layer.py:1059: UserWarning: fan_in_fan_out is set to False but the target module is `Conv1D`. Setting fan_in_fan_out to True.\n",
      "  warnings.warn(\n"
     ]
    }
   ],
   "source": [
    "from transformers import AutoTokenizer\n",
    "\n",
    "\n",
    "MODEL_NAME =\"openai-community/gpt2\"# \"google/gemma-2b-it\" #\"openai-community/gpt2\"  #\"google/gemma-2b-it\"\n",
    "\n",
    "from transformers import AutoTokenizer, AutoModelForCausalLM\n",
    "from peft import get_peft_config, get_peft_model, LoraConfig, TaskType\n",
    "peft_config = LoraConfig(\n",
    "    task_type=TaskType.CAUSAL_LM, inference_mode=False, r=8, lora_alpha=32, lora_dropout=0.1\n",
    ")\n",
    "\n",
    "tokeniser = AutoTokenizer.from_pretrained(MODEL_NAME)\n",
    "model = AutoModelForCausalLM.from_pretrained(MODEL_NAME)\n",
    "model = get_peft_model(model, peft_config)\n",
    "model.print_trainable_parameters()"
   ]
  },
  {
   "cell_type": "code",
   "execution_count": 31,
   "metadata": {},
   "outputs": [],
   "source": [
    "rouge = load_metric('rouge')"
   ]
  },
  {
   "cell_type": "code",
   "execution_count": 40,
   "metadata": {},
   "outputs": [
    {
     "data": {
      "text/plain": [
       "{'input_ids': [1212, 318, 281, 1672, 6827, 13]}"
      ]
     },
     "execution_count": 40,
     "metadata": {},
     "output_type": "execute_result"
    }
   ],
   "source": [
    "inputs = tokeniser.encode_plus(\n",
    "    text=\"This is an example sentence.\",\n",
    "    add_special_tokens=True,\n",
    "    max_length=512,\n",
    "    truncation=True,\n",
    "    return_attention_mask=False,\n",
    ")\n",
    "inputs"
   ]
  },
  {
   "cell_type": "code",
   "execution_count": 32,
   "metadata": {},
   "outputs": [
    {
     "name": "stderr",
     "output_type": "stream",
     "text": [
      "Token indices sequence length is longer than the specified maximum sequence length for this model (1114 > 1024). Running this sequence through the model will result in indexing errors\n"
     ]
    }
   ],
   "source": [
    "# from peft import LoraConfig\n",
    "\n",
    "api_bank_df['tokenised_prompt'] = api_bank_df['prompt'].apply(lambda x: tokeniser.encode(x))\n",
    "\n",
    "api_bank_df['tokenised_output'] = api_bank_df['output'].apply(lambda x: tokeniser.encode(x))"
   ]
  },
  {
   "cell_type": "code",
   "execution_count": 33,
   "metadata": {},
   "outputs": [],
   "source": [
    "from peft import LoraConfig\n",
    "\n",
    "lora_config = LoraConfig(\n",
    "    r=16,\n",
    "    lora_alpha=32,\n",
    "    lora_dropout=0.05,\n",
    "    bias=\"none\",\n",
    "    task_type=\"CAUSAL_LM\",\n",
    ")\n"
   ]
  },
  {
   "cell_type": "code",
   "execution_count": null,
   "metadata": {},
   "outputs": [],
   "source": [
    "import torch\n",
    "from transformers import default_data_collator, get_linear_schedule_with_warmup\n",
    "from peft import get_peft_config, get_peft_model, PromptTuningInit, PromptTuningConfig, TaskType, PeftType\n",
    "\n",
    "optimizer = torch.optim.AdamW(model.parameters(), lr=lr)\n",
    "lr_scheduler = get_linear_schedule_with_warmup(\n",
    "    optimizer=optimizer,\n",
    "    num_warmup_steps=0,\n",
    "    num_training_steps=(len(train_dataloader) * num_epochs),\n",
    ")\n"
   ]
  }
 ],
 "metadata": {
  "kernelspec": {
   "display_name": "tool-learning",
   "language": "python",
   "name": "python3"
  },
  "language_info": {
   "codemirror_mode": {
    "name": "ipython",
    "version": 3
   },
   "file_extension": ".py",
   "mimetype": "text/x-python",
   "name": "python",
   "nbconvert_exporter": "python",
   "pygments_lexer": "ipython3",
   "version": "3.11.8"
  }
 },
 "nbformat": 4,
 "nbformat_minor": 2
}
