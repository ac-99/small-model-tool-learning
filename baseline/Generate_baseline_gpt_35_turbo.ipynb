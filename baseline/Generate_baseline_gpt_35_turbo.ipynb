{
  "cells": [
    {
      "cell_type": "code",
      "execution_count": null,
      "metadata": {
        "colab": {
          "base_uri": "https://localhost:8080/"
        },
        "id": "CGfhplNLGu-5",
        "outputId": "0854fe8d-3030-4e35-a081-99a08b0da9b6"
      },
      "outputs": [
        {
          "name": "stdout",
          "output_type": "stream",
          "text": [
            "Mounted at /content/drive\n"
          ]
        }
      ],
      "source": [
        "from google.colab import drive\n",
        "drive.mount('/content/drive', force_remount=False)"
      ]
    },
    {
      "cell_type": "code",
      "execution_count": null,
      "metadata": {
        "colab": {
          "base_uri": "https://localhost:8080/"
        },
        "id": "3BfikmicHmv2",
        "outputId": "a76bb395-6493-4f13-89c8-0b91bccecd3f"
      },
      "outputs": [
        {
          "name": "stdout",
          "output_type": "stream",
          "text": [
            "  Preparing metadata (setup.py) ... \u001b[?25l\u001b[?25hdone\n",
            "  Building wheel for rouge-score (setup.py) ... \u001b[?25l\u001b[?25hdone\n"
          ]
        }
      ],
      "source": [
        "!pip install transformers -q\n",
        "!pip install -q -U bitsandbytes>=0.44.0\n",
        "!pip install rouge-score -q\n",
        "!pip install accelerate -q\n",
        "!pip install openai -q"
      ]
    },
    {
      "cell_type": "code",
      "execution_count": null,
      "metadata": {
        "colab": {
          "base_uri": "https://localhost:8080/"
        },
        "id": "B40HkjEaHCUA",
        "outputId": "685d0c8b-3b62-4ed7-92b0-7cf2c9e1bcde"
      },
      "outputs": [
        {
          "name": "stderr",
          "output_type": "stream",
          "text": [
            "WARNING:bitsandbytes.cextension:The installed version of bitsandbytes was compiled without GPU support. 8-bit optimizers, 8-bit multiplication, and GPU quantization are unavailable.\n"
          ]
        }
      ],
      "source": [
        "import torch\n",
        "from transformers import AutoTokenizer, AutoModelForCausalLM, BitsAndBytesConfig\n",
        "import bitsandbytes\n",
        "import pandas as pd\n",
        "import numpy as np\n",
        "from rouge_score import rouge_scorer\n",
        "import re\n",
        "import huggingface_hub\n",
        "from google.colab import userdata\n",
        "from openai import OpenAI\n",
        "\n",
        "\n",
        "# Define constants\n",
        "PATH_TO_DATA = '/content/drive/MyDrive/cleaned_api_bank_data.xlsx'\n",
        "MODEL = \"gpt-3.5-turbo-0125\"#\"microsoft/phi-2\"# \"microsoft/phi-2\"\n",
        "LOAD_IN_4_BIT = True\n",
        "SAMPLE = None\n",
        "\n",
        "HF_WRITE_KEY = userdata.get('HF_WRITE_KEY')\n",
        "OPENAI_API_KEY = userdata.get('OPENAI_API_KEY')\n",
        "\n",
        "huggingface_hub.login(token=HF_WRITE_KEY)\n",
        "\n",
        "client = OpenAI(api_key=OPENAI_API_KEY)\n"
      ]
    },
    {
      "cell_type": "markdown",
      "metadata": {},
      "source": [
        "#### Load in data"
      ]
    },
    {
      "cell_type": "code",
      "execution_count": null,
      "metadata": {
        "colab": {
          "base_uri": "https://localhost:8080/"
        },
        "id": "UiJlBWkLHFF9",
        "outputId": "a0f41617-b00c-4505-afc7-a6805868750c"
      },
      "outputs": [
        {
          "name": "stdout",
          "output_type": "stream",
          "text": [
            "No sampling!\n"
          ]
        }
      ],
      "source": [
        "from tqdm.auto import tqdm\n",
        "tqdm.pandas()\n",
        "\n",
        "api_bank_df = pd.read_excel(PATH_TO_DATA)#encoding='utf8', engine='python',on_bad_lines=\"warn\"\n",
        "api_bank_df.split.value_counts()\n",
        "\n",
        "test_results = api_bank_df[api_bank_df['split']=='test']\n",
        "if SAMPLE:\n",
        "  test_results = test_results.sample(SAMPLE)\n",
        "else:\n",
        "  print(\"No sampling!\")"
      ]
    },
    {
      "cell_type": "code",
      "execution_count": null,
      "metadata": {
        "colab": {
          "base_uri": "https://localhost:8080/"
        },
        "id": "npPdkS0OMH5R",
        "outputId": "d54ccfb5-0dd1-458f-b1e2-a7542dbb3035"
      },
      "outputs": [
        {
          "name": "stdout",
          "output_type": "stream",
          "text": [
            "INSTRUCTION: \n",
            "Generate an API request in the format of [ApiName(key1='value1', key2='value2', ...)] based on the previous dialogue context.\n",
            "The current time is 2039-03-09 18:56:09 Wednesday.\n",
            "Input: \n",
            "User: User's utterence\n",
            "AI: AI's response\n",
            "\n",
            "Expected output:\n",
            "API-Request: [ApiName(key1='value1', key2='value2', ...)]\n",
            "\n",
            "API descriptions:\n",
            "\n",
            "\n",
            " INPUT: {\"apiCode\": \"Get_All_Sessions\", \"description\": \"Get the list of all available yoga and meditation sessions.\", \"parameters\": {}, \"response\": {\"data\": {\"description\": \"List of available sessions.\", \"type\": \"list\", \"items\": {\"type\": \"object\", \"properties\": {\"session_name\": {\"description\": \"Name of the session.\", \"type\": \"string\"}, \"session_date\": {\"description\": \"Date of the session.\", \"type\": \"string\", \"format\": \"formatted\"}, \"session_time\": {\"description\": \"Time of the session.\", \"type\": \"string\", \"format\": \"formatted\"}, \"session_instructor\": {\"description\": \"Name of the session instructor.\", \"type\": \"string\"}, \"session_description\": {\"description\": \"Description of the session.\", \"type\": \"string\"}}}}}}\n",
            "{\"apiCode\": \"Create_New_Session\", \"description\": \"Create a new virtual yoga or meditation session.\", \"parameters\": {\"session_name\": {\"type\": \"string\", \"description\": \"Name of the session.\", \"required\": true}, \"session_date\": {\"type\": \"string\", \"description\": \"Date of the session, in the format yyyy-MM-dd.\", \"format\": \"formatted\", \"required\": true}, \"session_time\": {\"type\": \"string\", \"description\": \"Time of the session, in the format HH:mm:ss.\", \"format\": \"formatted\", \"required\": true}, \"session_instructor\": {\"type\": \"string\", \"description\": \"Name of the session instructor.\", \"required\": true}, \"session_description\": {\"type\": \"string\", \"description\": \"Description of the session.\", \"required\": true}}, \"response\": {\"data\": {\"description\": \"Confirmation of new session creation.\", \"type\": \"object\", \"properties\": {\"session_id\": {\"type\": \"integer\", \"description\": \"ID of the newly created session.\"}, \"status\": {\"type\": \"string\", \"description\": \"Status of the creation request.\"}}}}}\n",
            "{\"apiCode\": \"Register_for_Session\", \"description\": \"Register for a virtual yoga or meditation session.\", \"parameters\": {\"session_id\": {\"type\": \"integer\", \"description\": \"ID of the session to register for.\", \"required\": true}, \"user_name\": {\"type\": \"string\", \"description\": \"Name of the user registering for the session.\", \"required\": true}, \"user_email\": {\"type\": \"string\", \"description\": \"Email of the user registering for the session.\", \"required\": true}, \"user_phone\": {\"type\": \"string\", \"description\": \"Phone number of the user registering for the session.\", \"required\": true}}, \"response\": {\"data\": {\"description\": \"Confirmation of session registration.\", \"type\": \"object\", \"properties\": {\"session_name\": {\"type\": \"string\", \"description\": \"Name of the session the user registered for.\"}, \"user_name\": {\"type\": \"string\", \"description\": \"Name of the user who registered for the session.\"}, \"status\": {\"type\": \"string\", \"description\": \"Status of the registration request.\"}}}}}\n",
            "User: I'm interested in joining a virtual yoga or meditation session. Can you provide me with a list of all available sessions?\n",
            "Generate API Request: \n",
            "\n",
            " EXPECTED COMPLETION: [Get_All_Sessions()]\n"
          ]
        }
      ],
      "source": [
        "print(f\"INSTRUCTION: {api_bank_df.iloc[0].instruction}\\n\\n INPUT: {api_bank_df.iloc[0].input}\\n\\n EXPECTED COMPLETION: {api_bank_df.iloc[0].completion}\")"
      ]
    },
    {
      "cell_type": "code",
      "execution_count": null,
      "metadata": {
        "colab": {
          "base_uri": "https://localhost:8080/",
          "height": 257,
          "referenced_widgets": [
            "02ab9f79817b462689edb925df2cb34d",
            "4f3471e86c204d91a7e35f4340c38394",
            "c7c27fb592d2406ca0e69d63d26a0572",
            "534751fc971f4e24bedd3ebd1052a78a",
            "5f5b992314bd47c88a16602237a0516b",
            "9b6b7cb4f8a240099b8302e4c6d7a568",
            "b8869904a4b94bdd9a843dea15df3877",
            "8ba4b8db45b54e42b0c48effde8c6018",
            "e34758a71283416b968b540dd91e9a7f",
            "b8b3baa4ad004105a8ccb9a2faeffc49",
            "2065d585023b4736b8bcdfc309749990"
          ]
        },
        "id": "NTKxM3zDHcII",
        "outputId": "b8605031-22ad-4700-cbe0-a48877457a66"
      },
      "outputs": [
        {
          "data": {
            "application/vnd.jupyter.widget-view+json": {
              "model_id": "02ab9f79817b462689edb925df2cb34d",
              "version_major": 2,
              "version_minor": 0
            },
            "text/plain": [
              "  0%|          | 0/997 [00:00<?, ?it/s]"
            ]
          },
          "metadata": {},
          "output_type": "display_data"
        },
        {
          "name": "stderr",
          "output_type": "stream",
          "text": [
            "<ipython-input-13-19b15dc21478>:22: SettingWithCopyWarning: \n",
            "A value is trying to be set on a copy of a slice from a DataFrame.\n",
            "Try using .loc[row_indexer,col_indexer] = value instead\n",
            "\n",
            "See the caveats in the documentation: https://pandas.pydata.org/pandas-docs/stable/user_guide/indexing.html#returning-a-view-versus-a-copy\n",
            "  test_results['model_answer'] = test_results.progress_apply(lambda x: generate_completion(x['input'], x['instruction'],), axis=1)\n",
            "<ipython-input-13-19b15dc21478>:24: SettingWithCopyWarning: \n",
            "A value is trying to be set on a copy of a slice from a DataFrame.\n",
            "Try using .loc[row_indexer,col_indexer] = value instead\n",
            "\n",
            "See the caveats in the documentation: https://pandas.pydata.org/pandas-docs/stable/user_guide/indexing.html#returning-a-view-versus-a-copy\n",
            "  test_results['model'] = model_name\n"
          ]
        }
      ],
      "source": [
        "\n",
        "def generate_completion(input_str, instruction,client=client):\n",
        "    \"\"\"Generate completions using OpenAI client and chat completions\"\"\"\n",
        "\n",
        "    completion = client.chat.completions.create(\n",
        "      model=MODEL,\n",
        "      messages=[\n",
        "        {\"role\": \"system\", \"content\": input_str},\n",
        "        {\"role\": \"user\", \"content\": instruction}\n",
        "      ],\n",
        "      temperature=0\n",
        "    )\n",
        "\n",
        "    return str(completion.choices[0].message.content)\n",
        "\n",
        "\n",
        "  # api_bank_df.head(1)\n",
        "\n",
        "def generate_model_answers(test_results, model_name):\n",
        "    \"\"\"Iterate through all inputs/instructions and generate completions\"\"\"\n",
        "\n",
        "    test_results['model_answer'] = test_results.progress_apply(lambda x: generate_completion(x['input'], x['instruction'],), axis=1)\n",
        "\n",
        "    # This would allow us to concat all of the data together in long format\n",
        "    test_results['model'] = model_name\n",
        "\n",
        "\n",
        "    return test_results\n",
        "\n",
        "test_results_copy = test_results.copy()\n",
        "test_results = generate_model_answers(test_results,model_name=MODEL)"
      ]
    },
    {
      "cell_type": "code",
      "execution_count": null,
      "metadata": {
        "colab": {
          "base_uri": "https://localhost:8080/"
        },
        "id": "4ZcNpp-7XH-g",
        "outputId": "3b96250a-e46a-4304-96f7-07f7c40435f9"
      },
      "outputs": [
        {
          "name": "stderr",
          "output_type": "stream",
          "text": [
            "<ipython-input-14-4f549b3f0c9c>:1: SettingWithCopyWarning: \n",
            "A value is trying to be set on a copy of a slice from a DataFrame.\n",
            "Try using .loc[row_indexer,col_indexer] = value instead\n",
            "\n",
            "See the caveats in the documentation: https://pandas.pydata.org/pandas-docs/stable/user_guide/indexing.html#returning-a-view-versus-a-copy\n",
            "  test_results['completion']=test_results['completion'].astype(str).str.strip()\n",
            "<ipython-input-14-4f549b3f0c9c>:2: SettingWithCopyWarning: \n",
            "A value is trying to be set on a copy of a slice from a DataFrame.\n",
            "Try using .loc[row_indexer,col_indexer] = value instead\n",
            "\n",
            "See the caveats in the documentation: https://pandas.pydata.org/pandas-docs/stable/user_guide/indexing.html#returning-a-view-versus-a-copy\n",
            "  test_results['function_call']=test_results['function_call'].astype(str).str.strip()\n",
            "<ipython-input-14-4f549b3f0c9c>:3: SettingWithCopyWarning: \n",
            "A value is trying to be set on a copy of a slice from a DataFrame.\n",
            "Try using .loc[row_indexer,col_indexer] = value instead\n",
            "\n",
            "See the caveats in the documentation: https://pandas.pydata.org/pandas-docs/stable/user_guide/indexing.html#returning-a-view-versus-a-copy\n",
            "  test_results['function_name']=test_results['function_name'].astype(str).str.strip()\n"
          ]
        },
        {
          "data": {
            "text/plain": [
              "contained_correct_call    0.283852\n",
              "exact_match               0.000000\n",
              "answer_included_list      0.815446\n",
              "contains_function_name    0.646941\n",
              "rouge_1_precision_list    0.482745\n",
              "rouge_1_recall_list       0.517158\n",
              "rouge_1_f1_list           0.490196\n",
              "dtype: float64"
            ]
          },
          "execution_count": 14,
          "metadata": {},
          "output_type": "execute_result"
        }
      ],
      "source": [
        "# Slightly output cleaning\n",
        "test_results['completion']=test_results['completion'].astype(str).str.strip()\n",
        "test_results['function_call']=test_results['function_call'].astype(str).str.strip()\n",
        "test_results['function_name']=test_results['function_name'].astype(str).str.strip()\n",
        "\n",
        "# Get a scorer object\n",
        "scorer = rouge_scorer.RougeScorer(['rouge1'], use_stemmer=True)\n",
        "\n",
        "def evaluate_test_results(df,rouge_scorer=scorer):\n",
        "  \"\"\"Run an eval for each row in the test results\"\"\"\n",
        "\n",
        "  test_results = df.copy()\n",
        "\n",
        "  # Check the right call is there -- ACCURACY\n",
        "  test_results['contained_correct_call'] = test_results.apply(lambda x: x['completion'] in x['model_answer'], axis=1)\n",
        "  \n",
        "  # Is there a verbatim match? \n",
        "  test_results['exact_match'] = test_results.apply(lambda x: x['function_call'] == x['model_answer'] if x['model_answer'] else None, axis=1)\n",
        "  \n",
        "  # Does it include the correct anme\n",
        "  test_results['contains_function_name'] = test_results.apply(lambda x: x['function_name'] in x['model_answer'] if x['model_answer'] else None, axis=1)\n",
        "  \n",
        "  # Can the output be parsed?\n",
        "  test_results['answer_included_list'] = test_results.apply(lambda x: bool(re.search(r'\\[.*\\]', x['model_answer'])) if x['model_answer'] else None, axis=1)\n",
        "  \n",
        "  # Get the list of answers\n",
        "  test_results['answer_list'] = test_results.apply(lambda x: re.search(r'\\[.*\\]', x['model_answer']).group(0) if x['answer_included_list'] else '', axis=1)\n",
        "\n",
        "\n",
        "  # Generate ROUGE 1 scores\n",
        "  test_results['rouge_1_score'] = test_results.apply(lambda x: rouge_scorer.score(target=x['completion'],prediction=x['answer_list']),axis=1)\n",
        "\n",
        "  # Extract the correct values into their own columns\n",
        "  test_results['rouge_1_precision_list'] = test_results['rouge_1_score'].apply(lambda x: x['rouge1'].precision)\n",
        "  test_results['rouge_1_recall_list'] =  test_results['rouge_1_score'].apply(lambda x: x['rouge1'].recall)\n",
        "  test_results['rouge_1_f1_list'] =  test_results['rouge_1_score'].apply(lambda x: x['rouge1'].fmeasure)\n",
        "\n",
        "\n",
        "  return test_results\n",
        "\n",
        "evaluated_results = evaluate_test_results(test_results)\n",
        "\n",
        "# Print the outputs\n",
        "evaluated_results[['contained_correct_call','exact_match','answer_included_list','contains_function_name','rouge_1_precision_list','rouge_1_recall_list','rouge_1_f1_list']].mean()"
      ]
    },
    {
      "cell_type": "code",
      "execution_count": null,
      "metadata": {
        "id": "3udJGIQzWvz8"
      },
      "outputs": [],
      "source": [
        "# Colab output path\n",
        "OUTPUT_PATH = f\"/content/drive/MyDrive/api_bank_results_{MODEL.split('/')[-1]}.xlsx\".replace(\"-\",\"_\")\n",
        "\n",
        "evaluated_results.to_excel(OUTPUT_PATH)"
      ]
    },
    {
      "cell_type": "code",
      "execution_count": null,
      "metadata": {
        "id": "CVSReut4F9Cu"
      },
      "outputs": [],
      "source": [
        "from google.colab import runtime\n",
        "\n",
        "# Shut down colab resources when complete\n",
        "runtime.unassign()"
      ]
    }
  ],
  "metadata": {
    "colab": {
      "provenance": []
    },
    "kernelspec": {
      "display_name": "Python 3",
      "name": "python3"
    },
    "language_info": {
      "name": "python"
    },
    "widgets": {
      "application/vnd.jupyter.widget-state+json": {
        "02ab9f79817b462689edb925df2cb34d": {
          "model_module": "@jupyter-widgets/controls",
          "model_module_version": "1.5.0",
          "model_name": "HBoxModel",
          "state": {
            "_dom_classes": [],
            "_model_module": "@jupyter-widgets/controls",
            "_model_module_version": "1.5.0",
            "_model_name": "HBoxModel",
            "_view_count": null,
            "_view_module": "@jupyter-widgets/controls",
            "_view_module_version": "1.5.0",
            "_view_name": "HBoxView",
            "box_style": "",
            "children": [
              "IPY_MODEL_4f3471e86c204d91a7e35f4340c38394",
              "IPY_MODEL_c7c27fb592d2406ca0e69d63d26a0572",
              "IPY_MODEL_534751fc971f4e24bedd3ebd1052a78a"
            ],
            "layout": "IPY_MODEL_5f5b992314bd47c88a16602237a0516b"
          }
        },
        "2065d585023b4736b8bcdfc309749990": {
          "model_module": "@jupyter-widgets/controls",
          "model_module_version": "1.5.0",
          "model_name": "DescriptionStyleModel",
          "state": {
            "_model_module": "@jupyter-widgets/controls",
            "_model_module_version": "1.5.0",
            "_model_name": "DescriptionStyleModel",
            "_view_count": null,
            "_view_module": "@jupyter-widgets/base",
            "_view_module_version": "1.2.0",
            "_view_name": "StyleView",
            "description_width": ""
          }
        },
        "4f3471e86c204d91a7e35f4340c38394": {
          "model_module": "@jupyter-widgets/controls",
          "model_module_version": "1.5.0",
          "model_name": "HTMLModel",
          "state": {
            "_dom_classes": [],
            "_model_module": "@jupyter-widgets/controls",
            "_model_module_version": "1.5.0",
            "_model_name": "HTMLModel",
            "_view_count": null,
            "_view_module": "@jupyter-widgets/controls",
            "_view_module_version": "1.5.0",
            "_view_name": "HTMLView",
            "description": "",
            "description_tooltip": null,
            "layout": "IPY_MODEL_9b6b7cb4f8a240099b8302e4c6d7a568",
            "placeholder": "​",
            "style": "IPY_MODEL_b8869904a4b94bdd9a843dea15df3877",
            "value": "100%"
          }
        },
        "534751fc971f4e24bedd3ebd1052a78a": {
          "model_module": "@jupyter-widgets/controls",
          "model_module_version": "1.5.0",
          "model_name": "HTMLModel",
          "state": {
            "_dom_classes": [],
            "_model_module": "@jupyter-widgets/controls",
            "_model_module_version": "1.5.0",
            "_model_name": "HTMLModel",
            "_view_count": null,
            "_view_module": "@jupyter-widgets/controls",
            "_view_module_version": "1.5.0",
            "_view_name": "HTMLView",
            "description": "",
            "description_tooltip": null,
            "layout": "IPY_MODEL_b8b3baa4ad004105a8ccb9a2faeffc49",
            "placeholder": "​",
            "style": "IPY_MODEL_2065d585023b4736b8bcdfc309749990",
            "value": " 997/997 [19:49&lt;00:00,  1.27s/it]"
          }
        },
        "5f5b992314bd47c88a16602237a0516b": {
          "model_module": "@jupyter-widgets/base",
          "model_module_version": "1.2.0",
          "model_name": "LayoutModel",
          "state": {
            "_model_module": "@jupyter-widgets/base",
            "_model_module_version": "1.2.0",
            "_model_name": "LayoutModel",
            "_view_count": null,
            "_view_module": "@jupyter-widgets/base",
            "_view_module_version": "1.2.0",
            "_view_name": "LayoutView",
            "align_content": null,
            "align_items": null,
            "align_self": null,
            "border": null,
            "bottom": null,
            "display": null,
            "flex": null,
            "flex_flow": null,
            "grid_area": null,
            "grid_auto_columns": null,
            "grid_auto_flow": null,
            "grid_auto_rows": null,
            "grid_column": null,
            "grid_gap": null,
            "grid_row": null,
            "grid_template_areas": null,
            "grid_template_columns": null,
            "grid_template_rows": null,
            "height": null,
            "justify_content": null,
            "justify_items": null,
            "left": null,
            "margin": null,
            "max_height": null,
            "max_width": null,
            "min_height": null,
            "min_width": null,
            "object_fit": null,
            "object_position": null,
            "order": null,
            "overflow": null,
            "overflow_x": null,
            "overflow_y": null,
            "padding": null,
            "right": null,
            "top": null,
            "visibility": null,
            "width": null
          }
        },
        "8ba4b8db45b54e42b0c48effde8c6018": {
          "model_module": "@jupyter-widgets/base",
          "model_module_version": "1.2.0",
          "model_name": "LayoutModel",
          "state": {
            "_model_module": "@jupyter-widgets/base",
            "_model_module_version": "1.2.0",
            "_model_name": "LayoutModel",
            "_view_count": null,
            "_view_module": "@jupyter-widgets/base",
            "_view_module_version": "1.2.0",
            "_view_name": "LayoutView",
            "align_content": null,
            "align_items": null,
            "align_self": null,
            "border": null,
            "bottom": null,
            "display": null,
            "flex": null,
            "flex_flow": null,
            "grid_area": null,
            "grid_auto_columns": null,
            "grid_auto_flow": null,
            "grid_auto_rows": null,
            "grid_column": null,
            "grid_gap": null,
            "grid_row": null,
            "grid_template_areas": null,
            "grid_template_columns": null,
            "grid_template_rows": null,
            "height": null,
            "justify_content": null,
            "justify_items": null,
            "left": null,
            "margin": null,
            "max_height": null,
            "max_width": null,
            "min_height": null,
            "min_width": null,
            "object_fit": null,
            "object_position": null,
            "order": null,
            "overflow": null,
            "overflow_x": null,
            "overflow_y": null,
            "padding": null,
            "right": null,
            "top": null,
            "visibility": null,
            "width": null
          }
        },
        "9b6b7cb4f8a240099b8302e4c6d7a568": {
          "model_module": "@jupyter-widgets/base",
          "model_module_version": "1.2.0",
          "model_name": "LayoutModel",
          "state": {
            "_model_module": "@jupyter-widgets/base",
            "_model_module_version": "1.2.0",
            "_model_name": "LayoutModel",
            "_view_count": null,
            "_view_module": "@jupyter-widgets/base",
            "_view_module_version": "1.2.0",
            "_view_name": "LayoutView",
            "align_content": null,
            "align_items": null,
            "align_self": null,
            "border": null,
            "bottom": null,
            "display": null,
            "flex": null,
            "flex_flow": null,
            "grid_area": null,
            "grid_auto_columns": null,
            "grid_auto_flow": null,
            "grid_auto_rows": null,
            "grid_column": null,
            "grid_gap": null,
            "grid_row": null,
            "grid_template_areas": null,
            "grid_template_columns": null,
            "grid_template_rows": null,
            "height": null,
            "justify_content": null,
            "justify_items": null,
            "left": null,
            "margin": null,
            "max_height": null,
            "max_width": null,
            "min_height": null,
            "min_width": null,
            "object_fit": null,
            "object_position": null,
            "order": null,
            "overflow": null,
            "overflow_x": null,
            "overflow_y": null,
            "padding": null,
            "right": null,
            "top": null,
            "visibility": null,
            "width": null
          }
        },
        "b8869904a4b94bdd9a843dea15df3877": {
          "model_module": "@jupyter-widgets/controls",
          "model_module_version": "1.5.0",
          "model_name": "DescriptionStyleModel",
          "state": {
            "_model_module": "@jupyter-widgets/controls",
            "_model_module_version": "1.5.0",
            "_model_name": "DescriptionStyleModel",
            "_view_count": null,
            "_view_module": "@jupyter-widgets/base",
            "_view_module_version": "1.2.0",
            "_view_name": "StyleView",
            "description_width": ""
          }
        },
        "b8b3baa4ad004105a8ccb9a2faeffc49": {
          "model_module": "@jupyter-widgets/base",
          "model_module_version": "1.2.0",
          "model_name": "LayoutModel",
          "state": {
            "_model_module": "@jupyter-widgets/base",
            "_model_module_version": "1.2.0",
            "_model_name": "LayoutModel",
            "_view_count": null,
            "_view_module": "@jupyter-widgets/base",
            "_view_module_version": "1.2.0",
            "_view_name": "LayoutView",
            "align_content": null,
            "align_items": null,
            "align_self": null,
            "border": null,
            "bottom": null,
            "display": null,
            "flex": null,
            "flex_flow": null,
            "grid_area": null,
            "grid_auto_columns": null,
            "grid_auto_flow": null,
            "grid_auto_rows": null,
            "grid_column": null,
            "grid_gap": null,
            "grid_row": null,
            "grid_template_areas": null,
            "grid_template_columns": null,
            "grid_template_rows": null,
            "height": null,
            "justify_content": null,
            "justify_items": null,
            "left": null,
            "margin": null,
            "max_height": null,
            "max_width": null,
            "min_height": null,
            "min_width": null,
            "object_fit": null,
            "object_position": null,
            "order": null,
            "overflow": null,
            "overflow_x": null,
            "overflow_y": null,
            "padding": null,
            "right": null,
            "top": null,
            "visibility": null,
            "width": null
          }
        },
        "c7c27fb592d2406ca0e69d63d26a0572": {
          "model_module": "@jupyter-widgets/controls",
          "model_module_version": "1.5.0",
          "model_name": "FloatProgressModel",
          "state": {
            "_dom_classes": [],
            "_model_module": "@jupyter-widgets/controls",
            "_model_module_version": "1.5.0",
            "_model_name": "FloatProgressModel",
            "_view_count": null,
            "_view_module": "@jupyter-widgets/controls",
            "_view_module_version": "1.5.0",
            "_view_name": "ProgressView",
            "bar_style": "success",
            "description": "",
            "description_tooltip": null,
            "layout": "IPY_MODEL_8ba4b8db45b54e42b0c48effde8c6018",
            "max": 997,
            "min": 0,
            "orientation": "horizontal",
            "style": "IPY_MODEL_e34758a71283416b968b540dd91e9a7f",
            "value": 997
          }
        },
        "e34758a71283416b968b540dd91e9a7f": {
          "model_module": "@jupyter-widgets/controls",
          "model_module_version": "1.5.0",
          "model_name": "ProgressStyleModel",
          "state": {
            "_model_module": "@jupyter-widgets/controls",
            "_model_module_version": "1.5.0",
            "_model_name": "ProgressStyleModel",
            "_view_count": null,
            "_view_module": "@jupyter-widgets/base",
            "_view_module_version": "1.2.0",
            "_view_name": "StyleView",
            "bar_color": null,
            "description_width": ""
          }
        }
      }
    }
  },
  "nbformat": 4,
  "nbformat_minor": 0
}
